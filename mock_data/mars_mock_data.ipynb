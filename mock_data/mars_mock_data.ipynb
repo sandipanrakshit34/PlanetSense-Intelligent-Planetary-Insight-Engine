{
 "cells": [
  {
   "cell_type": "code",
   "execution_count": 10,
   "id": "976228f8-1041-4df3-b55d-132f816e3482",
   "metadata": {},
   "outputs": [
    {
     "name": "stdout",
     "output_type": "stream",
     "text": [
      "[-22.58277861  81.12857515  41.75890953 ...  22.79909934 -81.42301006\n",
      "  36.73390409]\n",
      "size=300000\n"
     ]
    }
   ],
   "source": [
    "import pandas as pd\n",
    "import numpy as np\n",
    "\n",
    "n=300_000\n",
    "np.random.seed(42)\n",
    "\n",
    "data={\n",
    "    \"Latitude\": np.random.uniform(-90, 90, size=n)\n",
    "}\n",
    "print(data[\"Latitude\"])\n",
    "print(f\"size={len(data[\"Latitude\"])}\")"
   ]
  },
  {
   "cell_type": "code",
   "execution_count": 12,
   "id": "6117aada-eda1-47a1-8fcc-f94a4487cc09",
   "metadata": {},
   "outputs": [
    {
     "name": "stdout",
     "output_type": "stream",
     "text": [
      "[-179.26292284 -106.61391156  158.09243036 ...  -27.35454496   95.34128783\n",
      "  108.70083228]\n",
      "size=300000\n"
     ]
    }
   ],
   "source": [
    "data[\"Longitude\"]=np.random.uniform(-180, 180, size=n)\n",
    "print(data[\"Longitude\"])\n",
    "print(f\"size={len(data[\"Longitude\"])}\")"
   ]
  },
  {
   "cell_type": "code",
   "execution_count": 17,
   "id": "bdea0175-e779-4c48-a655-63ea90d87f27",
   "metadata": {},
   "outputs": [
    {
     "name": "stdout",
     "output_type": "stream",
     "text": [
      "[-15.288744   -31.45555083  -4.41550098 ... -36.91172141 -58.68067611\n",
      " -12.98864914]\n",
      "size=300000\n"
     ]
    }
   ],
   "source": [
    "data[\"Surface_temp_C\"]=np.random.normal(loc=-30, scale=20, size=n)\n",
    "print(data[\"Surface_temp_C\"])\n",
    "print(f\"size={len(data[\"Surface_temp_C\"])}\")"
   ]
  },
  {
   "cell_type": "code",
   "execution_count": 18,
   "id": "8a2c7fef-4227-42d0-8e71-6383155f5f88",
   "metadata": {},
   "outputs": [
    {
     "name": "stdout",
     "output_type": "stream",
     "text": [
      "[720.20956183 603.73334034 660.7135982  ... 689.2392213  572.74506002\n",
      " 546.36266751]\n",
      "size=300000\n"
     ]
    }
   ],
   "source": [
    "data[\"Pressure_pa\"]=np.random.normal(loc=610, scale=50, size=n)\n",
    "print(data[\"Pressure_pa\"])\n",
    "print(f\"size={len(data[\"Pressure_pa\"])}\")"
   ]
  },
  {
   "cell_type": "code",
   "execution_count": 19,
   "id": "da48ae59-aaed-409b-b9f2-9f011a20a363",
   "metadata": {},
   "outputs": [
    {
     "name": "stdout",
     "output_type": "stream",
     "text": [
      "[3.721 3.721 3.721 ... 3.721 3.721 3.721]\n",
      "size=300000\n"
     ]
    }
   ],
   "source": [
    "data[\"Gravity_mps2\"]=np.full(n, 3.721)\n",
    "print(data[\"Gravity_mps2\"])\n",
    "print(f\"size={len(data[\"Gravity_mps2\"])}\")"
   ]
  },
  {
   "cell_type": "code",
   "execution_count": 22,
   "id": "24f46cee-41d0-4a33-9d9e-57f0ab5d9219",
   "metadata": {},
   "outputs": [
    {
     "name": "stdout",
     "output_type": "stream",
     "text": [
      "[0.0116681  0.06626344 0.00095231 ... 0.02438476 0.00154773 0.00025276]\n",
      "size=300000\n"
     ]
    }
   ],
   "source": [
    "data[\"Seismic_Amplitude\"]=np.random.exponential(scale=0.03, size=n)\n",
    "print(data[\"Seismic_Amplitude\"])\n",
    "print(f\"size={len(data[\"Seismic_Amplitude\"])}\")"
   ]
  },
  {
   "cell_type": "code",
   "execution_count": 23,
   "id": "924324a2-1f56-4559-a1fb-77ecfa8be935",
   "metadata": {},
   "outputs": [
    {
     "name": "stdout",
     "output_type": "stream",
     "text": [
      "[1.17316706 0.77220886 1.00783674 ... 1.07170635 1.41648846 0.71739151]\n",
      "size=300000\n"
     ]
    }
   ],
   "source": [
    "data[\"Seismic_Frequency_Hz\"]=np.random.normal(loc=1.0, scale=0.25, size=n)\n",
    "print(data[\"Seismic_Frequency_Hz\"])\n",
    "print(f\"size={len(data[\"Seismic_Frequency_Hz\"])}\")"
   ]
  },
  {
   "cell_type": "code",
   "execution_count": 24,
   "id": "b35349cb-c87e-43b1-a8c3-e71db6442c1a",
   "metadata": {},
   "outputs": [
    {
     "name": "stdout",
     "output_type": "stream",
     "text": [
      "[ 617.98411405 2444.46589304 3096.80048214 ...  280.90454517 4090.56507911\n",
      " 5875.91513614]\n",
      "size=300000\n"
     ]
    }
   ],
   "source": [
    "data[\"Time_Since_Impact_s\"]=np.random.exponential(scale=3000, size=n)\n",
    "print(data[\"Time_Since_Impact_s\"])\n",
    "print(f\"size={len(data[\"Time_Since_Impact_s\"])}\")"
   ]
  },
  {
   "cell_type": "code",
   "execution_count": 25,
   "id": "d5050c7d-f19a-4934-9716-2c7461eecbd7",
   "metadata": {},
   "outputs": [
    {
     "name": "stdout",
     "output_type": "stream",
     "text": [
      "[3.23207043 3.58208584 3.07370286 ... 2.96047614 3.81000119 3.80736469]\n",
      "size=300000\n"
     ]
    }
   ],
   "source": [
    "data[\"Mineral_Density_gcm3\"]=np.random.normal(loc=3.5, scale=0.4, size=n)\n",
    "print(data[\"Mineral_Density_gcm3\"])\n",
    "print(f\"size={len(data[\"Mineral_Density_gcm3\"])}\")"
   ]
  },
  {
   "cell_type": "code",
   "execution_count": 26,
   "id": "cd87cd05-49b3-4be3-a39b-4e9658e18a83",
   "metadata": {},
   "outputs": [
    {
     "name": "stdout",
     "output_type": "stream",
     "text": [
      "[ 4.82253693  4.12531556  3.7232676  ... -0.9165443   4.46473115\n",
      " -0.12841625]\n",
      "size=300000\n"
     ]
    }
   ],
   "source": [
    "data[\"Regolith_Depth_m\"]=np.random.normal(loc=3.0, scale=2.0, size=n)\n",
    "print(data[\"Regolith_Depth_m\"])\n",
    "print(f\"size={len(data[\"Regolith_Depth_m\"])}\")"
   ]
  },
  {
   "cell_type": "code",
   "execution_count": 27,
   "id": "ab1272fe-8976-4b27-a2cf-9420d1c0914b",
   "metadata": {},
   "outputs": [
    {
     "name": "stdout",
     "output_type": "stream",
     "text": [
      "[246.66540925 298.53253343 284.64313347 ... 333.29650876 218.43690106\n",
      " 288.18324768]\n",
      "size=300000\n"
     ]
    }
   ],
   "source": [
    "data[\"Radiation_mSv\"]=np.random.normal(loc=250, scale=40, size=n)\n",
    "print(data[\"Radiation_mSv\"])\n",
    "print(f\"size={len(data[\"Radiation_mSv\"])}\")"
   ]
  },
  {
   "cell_type": "code",
   "execution_count": 28,
   "id": "2fb6ee27-cac3-4048-8ed8-5aea8955cd40",
   "metadata": {},
   "outputs": [
    {
     "name": "stdout",
     "output_type": "stream",
     "text": [
      "[15646.96877617 12786.03816451 15621.63920059 ... 14312.68346747\n",
      " 15274.69078822 14830.26869333]\n",
      "size=300000\n"
     ]
    }
   ],
   "source": [
    "data[\"Magnetic_Field_nT\"]=np.random.normal(loc=15000, scale=2000, size=n)\n",
    "print(data[\"Magnetic_Field_nT\"])\n",
    "print(f\"size={len(data[\"Magnetic_Field_nT\"])}\")"
   ]
  },
  {
   "cell_type": "code",
   "execution_count": 29,
   "id": "d65a58ad-0dc4-48d6-87b1-d4a7027c2c6f",
   "metadata": {},
   "outputs": [
    {
     "name": "stdout",
     "output_type": "stream",
     "text": [
      "['Rocky' 'Crater' 'Volcanic' ... 'Volcanic' 'Rocky' 'Sandy']\n",
      "size=300000\n"
     ]
    }
   ],
   "source": [
    "data[\"Terrain_Type\"]=np.random.choice(\n",
    "            [\"Rocky\", \"Sandy\", \"Crater\", \"Volcanic\", \"Dusty\"],\n",
    "            size=n,\n",
    "            p=[0.4, 0.2, 0.2, 0.1, 0.1]\n",
    "        )\n",
    "print(data[\"Terrain_Type\"])\n",
    "print(f\"size={len(data[\"Terrain_Type\"])}\")"
   ]
  },
  {
   "cell_type": "code",
   "execution_count": 30,
   "id": "87377f91-bb0b-45a8-8dbb-9e3703238d1b",
   "metadata": {},
   "outputs": [
    {
     "name": "stdout",
     "output_type": "stream",
     "text": [
      "[23.28767424 15.18611922 10.70117796 ... 21.26740676 10.95378711\n",
      "  4.28289451]\n",
      "size=300000\n"
     ]
    }
   ],
   "source": [
    "data[\"Dust_Content_pct\"]=np.random.normal(loc=12, scale=6, size=n)\n",
    "print(data[\"Dust_Content_pct\"])\n",
    "print(f\"size={len(data[\"Dust_Content_pct\"])}\")"
   ]
  },
  {
   "cell_type": "code",
   "execution_count": 31,
   "id": "879d5017-d218-4727-a19d-9796b062c7de",
   "metadata": {},
   "outputs": [
    {
     "name": "stdout",
     "output_type": "stream",
     "text": [
      "[ 164566.30763045  100413.00092072   86591.02272395 ...   84834.10681937\n",
      " 1695580.88328757 1085602.45741607]\n",
      "size=300000\n"
     ]
    }
   ],
   "source": [
    "data[\"Crater_Age_years\"]=np.random.lognormal(mean=12, sigma=1, size=n)\n",
    "print(data[\"Crater_Age_years\"])\n",
    "print(f\"size={len(data[\"Crater_Age_years\"])}\")"
   ]
  },
  {
   "cell_type": "code",
   "execution_count": 32,
   "id": "2de9ed6f-9a61-4bcb-b464-a6308867ad93",
   "metadata": {},
   "outputs": [
    {
     "name": "stdout",
     "output_type": "stream",
     "text": [
      "[501.12868622 545.65283406 636.60922412 ... 540.68855793 616.91990893\n",
      " 469.90870172]\n",
      "size=300000\n"
     ]
    }
   ],
   "source": [
    "data[\"Solar_Exposure_Wm2\"]=np.random.normal(loc=590, scale=70, size=n)\n",
    "print(data[\"Solar_Exposure_Wm2\"])\n",
    "print(f\"size={len(data[\"Solar_Exposure_Wm2\"])}\")"
   ]
  },
  {
   "cell_type": "code",
   "execution_count": 33,
   "id": "51f18c4d-d092-479e-be0a-cced082fdc9c",
   "metadata": {},
   "outputs": [
    {
     "name": "stdout",
     "output_type": "stream",
     "text": [
      "['Basalt' 'Basalt' 'Silica' ... 'Hematite' 'Basalt' 'Hematite']\n",
      "size=300000\n"
     ]
    }
   ],
   "source": [
    "data[\"Surface_Material_Label\"]=np.random.choice(\n",
    "            [\"Hematite\", \"Basalt\", \"Olivine\", \"Pyroxene\", \"Silica\", \"Sulfates\"],\n",
    "            size=n,\n",
    "            p=[0.25, 0.25, 0.15, 0.15, 0.1, 0.1]\n",
    "        )\n",
    "print(data[\"Surface_Material_Label\"])\n",
    "print(f\"size={len(data[\"Surface_Material_Label\"])}\")"
   ]
  },
  {
   "cell_type": "code",
   "execution_count": 35,
   "id": "7ca9c6ab-1885-4944-8366-e2c33c987c6b",
   "metadata": {},
   "outputs": [
    {
     "name": "stdout",
     "output_type": "stream",
     "text": [
      "dict_keys(['Latitude', 'Longitude', 'Surface_temp_C', 'Pressure_pa', 'Gravity_mps2', 'Seismic_Amplitude', 'Seismic_Frequency_Hz', 'Time_Since_Impact_s', 'Mineral_Density_gcm3', 'Regolith_Depth_m', 'Radiation_mSv', 'Magnetic_Field_nT', 'Terrain_Type', 'Dust_Content_pct', 'Crater_Age_years', 'Solar_Exposure_Wm2', 'Surface_Material_Label'])\n"
     ]
    }
   ],
   "source": [
    "print(data.keys())"
   ]
  },
  {
   "cell_type": "code",
   "execution_count": 38,
   "id": "31869d20-b188-45eb-929b-a1fa55ecb690",
   "metadata": {},
   "outputs": [
    {
     "name": "stdout",
     "output_type": "stream",
     "text": [
      "mock data maked successfully to Mars_data.csv\n"
     ]
    }
   ],
   "source": [
    "df=pd.DataFrame(data)\n",
    "df.to_csv(\"Mars_data.csv\", index=False)\n",
    "print(\"mock data maked successfully to Mars_data.csv\")"
   ]
  }
 ],
 "metadata": {
  "kernelspec": {
   "display_name": "Python [conda env:base] *",
   "language": "python",
   "name": "conda-base-py"
  },
  "language_info": {
   "codemirror_mode": {
    "name": "ipython",
    "version": 3
   },
   "file_extension": ".py",
   "mimetype": "text/x-python",
   "name": "python",
   "nbconvert_exporter": "python",
   "pygments_lexer": "ipython3",
   "version": "3.12.7"
  }
 },
 "nbformat": 4,
 "nbformat_minor": 5
}
